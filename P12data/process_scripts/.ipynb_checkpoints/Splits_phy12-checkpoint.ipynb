{
 "cells": [
  {
   "cell_type": "code",
   "execution_count": 2,
   "metadata": {},
   "outputs": [
    {
     "data": {
      "text/html": [
       "<style>.container { width:90% !important; }</style>"
      ],
      "text/plain": [
       "<IPython.core.display.HTML object>"
      ]
     },
     "metadata": {},
     "output_type": "display_data"
    }
   ],
   "source": [
    "# Train/test/val splits for PhysioNet-2012 dataset\n",
    "# \n",
    "# Author: Theodoros Tsiligkaridis\n",
    "# Last updated: April 5 2021\n",
    "from IPython.core.display import display, HTML\n",
    "display(HTML(\"<style>.container { width:90% !important; }</style>\"))\n",
    "\n",
    "import json\n",
    "import numpy as np\n",
    "import pandas as pd\n",
    "import matplotlib.pyplot as plt"
   ]
  },
  {
   "cell_type": "code",
   "execution_count": 5,
   "metadata": {},
   "outputs": [],
   "source": [
    "# p_train = 0.80*0.80\n",
    "# p_val   = 0.80*0.20\n",
    "# p_test  = 0.20"
   ]
  },
  {
   "cell_type": "code",
   "execution_count": 19,
   "metadata": {},
   "outputs": [
    {
     "name": "stdout",
     "output_type": "stream",
     "text": [
      "12000\n",
      "(12000, 6)\n",
      "pid:  132539\n"
     ]
    }
   ],
   "source": [
    "with open(\"phy12_data.json\", 'r') as f:\n",
    "    P_list = json.load(f)\n",
    "print(len(P_list))\n",
    "\n",
    "arr_outcomes = np.load('phy12_outcomes.npy')\n",
    "print(arr_outcomes.shape)\n",
    "\n",
    "pid = P_list[0]['id']\n",
    "print('pid: ', pid)"
   ]
  },
  {
   "cell_type": "code",
   "execution_count": 20,
   "metadata": {},
   "outputs": [
    {
     "name": "stdout",
     "output_type": "stream",
     "text": [
      "11988 (11988, 6)\n"
     ]
    }
   ],
   "source": [
    "# remove blacklist patients\n",
    "blacklist = ['140501', '150649', '140936', '143656', '141264', '145611', '142998', '147514', '142731', '150309', '155655', '156254']\n",
    "\n",
    "i = 0\n",
    "n = len(P_list)\n",
    "while i<n:\n",
    "    pid = P_list[i]['id']\n",
    "    if pid in blacklist:\n",
    "        P_list = np.delete(P_list, i)\n",
    "        arr_outcomes = np.delete(arr_outcomes, i, axis=0)\n",
    "        n -= 1\n",
    "    i += 1\n",
    "print(len(P_list), arr_outcomes.shape)"
   ]
  },
  {
   "cell_type": "code",
   "execution_count": 22,
   "metadata": {},
   "outputs": [],
   "source": [
    "# Save P_list, arr_outcomes\n",
    "# with open(\"./data/phy12_data.json\", 'w') as f:\n",
    "#     # indent=2 is not needed but makes the file human-readable\n",
    "#     json.dump(P_list, f, indent=2) \n",
    "np.save('./data/P_list.npy', P_list)\n",
    "np.save('./data/arr_outcomes.npy', arr_outcomes)"
   ]
  },
  {
   "cell_type": "code",
   "execution_count": 3,
   "metadata": {
    "scrolled": true
   },
   "outputs": [
    {
     "name": "stdout",
     "output_type": "stream",
     "text": [
      "{'id': '132539', 'static': [54.0, 0.0, -1.0, 4.0, -1.0], 'ts': [[0.0, 7.0, 7.0, 'GCS', 15.0], [0.0, 7.0, 7.0, 'HR', 73.0], [0.0, 7.0, 7.0, 'NIDiasABP', 65.0], [0.0, 7.0, 7.0, 'NIMAP', 92.33], [0.0, 7.0, 7.0, 'NISysABP', 147.0], [0.0, 7.0, 7.0, 'RespRate', 19.0], [0.0, 7.0, 7.0, 'Temp', 35.1], [0.0, 7.0, 7.0, 'Urine', 900.0], [0.0, 37.0, 37.0, 'HR', 77.0], [0.0, 37.0, 37.0, 'NIDiasABP', 58.0], [0.0, 37.0, 37.0, 'NIMAP', 91.0], [0.0, 37.0, 37.0, 'NISysABP', 157.0], [0.0, 37.0, 37.0, 'RespRate', 19.0], [0.0, 37.0, 37.0, 'Temp', 35.6], [0.0, 37.0, 37.0, 'Urine', 60.0], [1.0, 37.0, 97.0, 'HR', 60.0], [1.0, 37.0, 97.0, 'NIDiasABP', 62.0], [1.0, 37.0, 97.0, 'NIMAP', 87.0], [1.0, 37.0, 97.0, 'NISysABP', 137.0], [1.0, 37.0, 97.0, 'RespRate', 18.0], [1.0, 37.0, 97.0, 'Urine', 30.0], [2.0, 37.0, 157.0, 'HR', 62.0], [2.0, 37.0, 157.0, 'NIDiasABP', 52.0], [2.0, 37.0, 157.0, 'NIMAP', 75.67], [2.0, 37.0, 157.0, 'NISysABP', 123.0], [2.0, 37.0, 157.0, 'RespRate', 19.0], [2.0, 37.0, 157.0, 'Urine', 170.0], [3.0, 8.0, 188.0, 'HCT', 33.7], [3.0, 37.0, 217.0, 'GCS', 15.0], [3.0, 37.0, 217.0, 'HR', 80.0], [3.0, 37.0, 217.0, 'NIDiasABP', 52.0], [3.0, 37.0, 217.0, 'NIMAP', 72.67], [3.0, 37.0, 217.0, 'NISysABP', 114.0], [3.0, 37.0, 217.0, 'RespRate', 20.0], [3.0, 37.0, 217.0, 'Temp', 37.8], [3.0, 37.0, 217.0, 'Urine', 60.0], [4.0, 37.0, 277.0, 'HR', 74.0], [4.0, 37.0, 277.0, 'RespRate', 20.0], [5.0, 37.0, 337.0, 'HR', 73.0], [5.0, 37.0, 337.0, 'NIDiasABP', 45.0], [5.0, 37.0, 337.0, 'NIMAP', 66.67], [5.0, 37.0, 337.0, 'NISysABP', 110.0], [5.0, 37.0, 337.0, 'RespRate', 17.0], [5.0, 37.0, 337.0, 'Urine', 170.0], [7.0, 37.0, 457.0, 'GCS', 15.0], [7.0, 37.0, 457.0, 'HR', 64.0], [7.0, 37.0, 457.0, 'NIDiasABP', 49.0], [7.0, 37.0, 457.0, 'NIMAP', 68.33], [7.0, 37.0, 457.0, 'NISysABP', 107.0], [7.0, 37.0, 457.0, 'RespRate', 15.0], [7.0, 37.0, 457.0, 'Temp', 38.1], [7.0, 37.0, 457.0, 'Urine', 120.0], [8.0, 37.0, 517.0, 'HR', 64.0], [8.0, 37.0, 517.0, 'NIDiasABP', 56.0], [8.0, 37.0, 517.0, 'NIMAP', 71.33], [8.0, 37.0, 517.0, 'NISysABP', 102.0], [8.0, 37.0, 517.0, 'RespRate', 14.0], [8.0, 37.0, 517.0, 'Urine', 80.0], [9.0, 37.0, 577.0, 'HR', 66.0], [9.0, 37.0, 577.0, 'NIDiasABP', 48.0], [9.0, 37.0, 577.0, 'NIMAP', 70.0], [9.0, 37.0, 577.0, 'NISysABP', 114.0], [9.0, 37.0, 577.0, 'RespRate', 17.0], [9.0, 37.0, 577.0, 'Urine', 100.0], [10.0, 37.0, 637.0, 'BUN', 13.0], [10.0, 37.0, 637.0, 'Creatinine', 0.8], [10.0, 37.0, 637.0, 'Glucose', 205.0], [10.0, 37.0, 637.0, 'HCO3', 26.0], [10.0, 37.0, 637.0, 'HCT', 33.5], [10.0, 37.0, 637.0, 'HR', 61.0], [10.0, 37.0, 637.0, 'Mg', 1.5], [10.0, 37.0, 637.0, 'NIDiasABP', 62.0], [10.0, 37.0, 637.0, 'NIMAP', 77.67], [10.0, 37.0, 637.0, 'NISysABP', 109.0], [10.0, 37.0, 637.0, 'Platelets', 221.0], [10.0, 37.0, 637.0, 'K', 4.4], [10.0, 37.0, 637.0, 'Na', 137.0], [10.0, 37.0, 637.0, 'RespRate', 15.0], [10.0, 37.0, 637.0, 'Urine', 60.0], [10.0, 37.0, 637.0, 'WBC', 11.2], [11.0, 37.0, 697.0, 'GCS', 15.0], [11.0, 37.0, 697.0, 'HR', 58.0], [11.0, 37.0, 697.0, 'NIDiasABP', 40.0], [11.0, 37.0, 697.0, 'NIMAP', 60.33], [11.0, 37.0, 697.0, 'NISysABP', 101.0], [11.0, 37.0, 697.0, 'RespRate', 15.0], [11.0, 37.0, 697.0, 'Temp', 37.6], [11.0, 37.0, 697.0, 'Urine', 80.0], [12.0, 37.0, 757.0, 'HR', 58.0], [12.0, 37.0, 757.0, 'NIDiasABP', 40.0], [12.0, 37.0, 757.0, 'NIMAP', 60.0], [12.0, 37.0, 757.0, 'NISysABP', 100.0], [12.0, 37.0, 757.0, 'RespRate', 12.0], [12.0, 37.0, 757.0, 'Urine', 50.0], [13.0, 37.0, 817.0, 'HR', 60.0], [13.0, 37.0, 817.0, 'NIDiasABP', 47.0], [13.0, 37.0, 817.0, 'NIMAP', 66.0], [13.0, 37.0, 817.0, 'NISysABP', 104.0], [13.0, 37.0, 817.0, 'RespRate', 15.0], [13.0, 37.0, 817.0, 'Urine', 60.0], [14.0, 37.0, 877.0, 'HR', 63.0], [14.0, 37.0, 877.0, 'RespRate', 15.0], [15.0, 37.0, 937.0, 'GCS', 15.0], [15.0, 37.0, 937.0, 'HR', 69.0], [15.0, 37.0, 937.0, 'NIDiasABP', 49.0], [15.0, 37.0, 937.0, 'NIMAP', 70.0], [15.0, 37.0, 937.0, 'NISysABP', 112.0], [15.0, 37.0, 937.0, 'RespRate', 12.0], [15.0, 37.0, 937.0, 'Temp', 36.9], [15.0, 37.0, 937.0, 'Urine', 120.0], [16.0, 37.0, 997.0, 'HR', 61.0], [16.0, 37.0, 997.0, 'NIDiasABP', 40.0], [16.0, 37.0, 997.0, 'NIMAP', 58.67], [16.0, 37.0, 997.0, 'NISysABP', 96.0], [16.0, 37.0, 997.0, 'RespRate', 14.0], [17.0, 37.0, 1057.0, 'HR', 65.0], [17.0, 37.0, 1057.0, 'NIDiasABP', 43.0], [17.0, 37.0, 1057.0, 'NIMAP', 61.33], [17.0, 37.0, 1057.0, 'NISysABP', 98.0], [17.0, 37.0, 1057.0, 'RespRate', 13.0], [17.0, 37.0, 1057.0, 'Urine', 140.0], [18.0, 37.0, 1117.0, 'HR', 77.0], [18.0, 37.0, 1117.0, 'RespRate', 18.0], [19.0, 37.0, 1177.0, 'GCS', 15.0], [19.0, 37.0, 1177.0, 'HR', 60.0], [19.0, 37.0, 1177.0, 'NIDiasABP', 55.0], [19.0, 37.0, 1177.0, 'NIMAP', 74.67], [19.0, 37.0, 1177.0, 'NISysABP', 114.0], [19.0, 37.0, 1177.0, 'RespRate', 13.0], [19.0, 37.0, 1177.0, 'Temp', 37.3], [19.0, 37.0, 1177.0, 'Urine', 80.0], [20.0, 37.0, 1237.0, 'HR', 62.0], [20.0, 37.0, 1237.0, 'RespRate', 12.0], [21.0, 37.0, 1297.0, 'HR', 73.0], [21.0, 37.0, 1297.0, 'NIDiasABP', 44.0], [21.0, 37.0, 1297.0, 'NIMAP', 63.33], [21.0, 37.0, 1297.0, 'NISysABP', 102.0], [21.0, 37.0, 1297.0, 'RespRate', 20.0], [21.0, 37.0, 1297.0, 'Urine', 70.0], [22.0, 37.0, 1357.0, 'HR', 66.0], [22.0, 37.0, 1357.0, 'NIDiasABP', 42.0], [22.0, 37.0, 1357.0, 'NIMAP', 62.67], [22.0, 37.0, 1357.0, 'NISysABP', 104.0], [22.0, 37.0, 1357.0, 'RespRate', 15.0], [22.0, 37.0, 1357.0, 'Urine', 80.0], [23.0, 37.0, 1417.0, 'GCS', 15.0], [23.0, 37.0, 1417.0, 'HR', 71.0], [23.0, 37.0, 1417.0, 'NIDiasABP', 41.0], [23.0, 37.0, 1417.0, 'NIMAP', 61.67], [23.0, 37.0, 1417.0, 'NISysABP', 103.0], [23.0, 37.0, 1417.0, 'RespRate', 24.0], [23.0, 37.0, 1417.0, 'Temp', 37.1], [23.0, 37.0, 1417.0, 'Urine', 40.0], [24.0, 37.0, 1477.0, 'Urine', 100.0], [25.0, 37.0, 1537.0, 'HR', 67.0], [25.0, 37.0, 1537.0, 'NIDiasABP', 48.0], [25.0, 37.0, 1537.0, 'NIMAP', 67.0], [25.0, 37.0, 1537.0, 'NISysABP', 105.0], [25.0, 37.0, 1537.0, 'RespRate', 16.0], [25.0, 37.0, 1537.0, 'Urine', 130.0], [26.0, 37.0, 1597.0, 'RespRate', 19.0], [27.0, 37.0, 1657.0, 'GCS', 15.0], [27.0, 37.0, 1657.0, 'HR', 80.0], [27.0, 37.0, 1657.0, 'NIDiasABP', 39.0], [27.0, 37.0, 1657.0, 'NIMAP', 60.67], [27.0, 37.0, 1657.0, 'NISysABP', 104.0], [27.0, 37.0, 1657.0, 'RespRate', 18.0], [27.0, 37.0, 1657.0, 'Temp', 37.9], [27.0, 37.0, 1657.0, 'Urine', 400.0], [27.0, 37.0, 1657.0, 'Urine', 0.0], [28.0, 37.0, 1717.0, 'Urine', 80.0], [29.0, 37.0, 1777.0, 'HR', 80.0], [29.0, 37.0, 1777.0, 'NIDiasABP', 41.0], [29.0, 37.0, 1777.0, 'NIMAP', 63.33], [29.0, 37.0, 1777.0, 'NISysABP', 108.0], [29.0, 37.0, 1777.0, 'RespRate', 16.0], [29.0, 37.0, 1777.0, 'Urine', 100.0], [30.0, 37.0, 1837.0, 'Urine', 450.0], [31.0, 37.0, 1897.0, 'GCS', 14.0], [31.0, 37.0, 1897.0, 'HR', 78.0], [31.0, 37.0, 1897.0, 'NIDiasABP', 43.0], [31.0, 37.0, 1897.0, 'NIMAP', 65.0], [31.0, 37.0, 1897.0, 'NISysABP', 109.0], [31.0, 37.0, 1897.0, 'RespRate', 18.0], [31.0, 37.0, 1897.0, 'Temp', 38.1], [31.0, 37.0, 1897.0, 'Urine', 220.0], [32.0, 37.0, 1957.0, 'Urine', 210.0], [33.0, 7.0, 1987.0, 'BUN', 8.0], [33.0, 7.0, 1987.0, 'Creatinine', 0.7], [33.0, 7.0, 1987.0, 'Glucose', 115.0], [33.0, 7.0, 1987.0, 'HCO3', 28.0], [33.0, 7.0, 1987.0, 'HCT', 30.3], [33.0, 7.0, 1987.0, 'Mg', 1.9], [33.0, 7.0, 1987.0, 'Platelets', 185.0], [33.0, 7.0, 1987.0, 'K', 4.0], [33.0, 7.0, 1987.0, 'Na', 136.0], [33.0, 7.0, 1987.0, 'WBC', 9.4], [33.0, 37.0, 2017.0, 'HR', 85.0], [33.0, 37.0, 2017.0, 'NIDiasABP', 46.0], [33.0, 37.0, 2017.0, 'NIMAP', 68.33], [33.0, 37.0, 2017.0, 'NISysABP', 113.0], [33.0, 37.0, 2017.0, 'RespRate', 18.0], [33.0, 37.0, 2017.0, 'Urine', 240.0], [34.0, 37.0, 2077.0, 'Urine', 100.0], [35.0, 37.0, 2137.0, 'GCS', 15.0], [35.0, 37.0, 2137.0, 'HR', 83.0], [35.0, 37.0, 2137.0, 'NIDiasABP', 49.0], [35.0, 37.0, 2137.0, 'NIMAP', 75.67], [35.0, 37.0, 2137.0, 'NISysABP', 129.0], [35.0, 37.0, 2137.0, 'RespRate', 20.0], [35.0, 37.0, 2137.0, 'Temp', 38.2], [35.0, 37.0, 2137.0, 'Urine', 100.0], [36.0, 37.0, 2197.0, 'Urine', 50.0], [37.0, 37.0, 2257.0, 'HR', 84.0], [37.0, 37.0, 2257.0, 'NIDiasABP', 47.0], [37.0, 37.0, 2257.0, 'NIMAP', 70.33], [37.0, 37.0, 2257.0, 'NISysABP', 117.0], [37.0, 37.0, 2257.0, 'RespRate', 24.0], [37.0, 37.0, 2257.0, 'Urine', 120.0], [38.0, 37.0, 2317.0, 'RespRate', 21.0], [39.0, 37.0, 2377.0, 'GCS', 15.0], [39.0, 37.0, 2377.0, 'HR', 73.0], [39.0, 37.0, 2377.0, 'NIDiasABP', 57.0], [39.0, 37.0, 2377.0, 'NIMAP', 78.67], [39.0, 37.0, 2377.0, 'NISysABP', 122.0], [39.0, 37.0, 2377.0, 'RespRate', 16.0], [39.0, 37.0, 2377.0, 'Temp', 37.9], [39.0, 37.0, 2377.0, 'Urine', 450.0], [40.0, 37.0, 2437.0, 'HR', 77.0], [40.0, 37.0, 2437.0, 'NIDiasABP', 53.0], [40.0, 37.0, 2437.0, 'NIMAP', 72.0], [40.0, 37.0, 2437.0, 'NISysABP', 110.0], [40.0, 37.0, 2437.0, 'RespRate', 18.0], [41.0, 37.0, 2497.0, 'HR', 73.0], [41.0, 37.0, 2497.0, 'NIDiasABP', 50.0], [41.0, 37.0, 2497.0, 'NIMAP', 69.67], [41.0, 37.0, 2497.0, 'NISysABP', 109.0], [41.0, 37.0, 2497.0, 'RespRate', 14.0], [41.0, 37.0, 2497.0, 'Urine', 450.0], [42.0, 37.0, 2557.0, 'NIDiasABP', 67.0], [42.0, 37.0, 2557.0, 'NIMAP', 87.67], [42.0, 37.0, 2557.0, 'NISysABP', 129.0], [42.0, 37.0, 2557.0, 'RespRate', 23.0], [43.0, 37.0, 2617.0, 'GCS', 15.0], [43.0, 37.0, 2617.0, 'HR', 73.0], [43.0, 37.0, 2617.0, 'NIDiasABP', 64.0], [43.0, 37.0, 2617.0, 'NIMAP', 82.67], [43.0, 37.0, 2617.0, 'NISysABP', 120.0], [43.0, 37.0, 2617.0, 'RespRate', 17.0], [43.0, 37.0, 2617.0, 'Temp', 37.6], [43.0, 37.0, 2617.0, 'Urine', 250.0], [44.0, 37.0, 2677.0, 'RespRate', 20.0], [45.0, 37.0, 2737.0, 'HR', 84.0], [45.0, 37.0, 2737.0, 'NIDiasABP', 56.0], [45.0, 37.0, 2737.0, 'NIMAP', 81.33], [45.0, 37.0, 2737.0, 'NISysABP', 132.0], [45.0, 37.0, 2737.0, 'RespRate', 20.0], [45.0, 37.0, 2737.0, 'Urine', 300.0], [46.0, 37.0, 2797.0, 'RespRate', 20.0], [47.0, 37.0, 2857.0, 'GCS', 15.0], [47.0, 37.0, 2857.0, 'HR', 86.0], [47.0, 37.0, 2857.0, 'NIDiasABP', 55.0], [47.0, 37.0, 2857.0, 'NIMAP', 79.33], [47.0, 37.0, 2857.0, 'NISysABP', 128.0], [47.0, 37.0, 2857.0, 'RespRate', 23.0], [47.0, 37.0, 2857.0, 'Temp', 37.8], [47.0, 37.0, 2857.0, 'Urine', 280.0]]}\n"
     ]
    }
   ],
   "source": [
    "P_list = np.load('./data/P_list.npy', allow_pickle=True)\n",
    "arr_outcomes = np.load('./data/arr_outcomes.npy', allow_pickle=True)\n",
    "print(P_list[0])"
   ]
  },
  {
   "cell_type": "code",
   "execution_count": 4,
   "metadata": {},
   "outputs": [
    {
     "name": "stdout",
     "output_type": "stream",
     "text": [
      "9590 1199 1199\n"
     ]
    }
   ],
   "source": [
    "p_train = 0.80\n",
    "p_val   = 0.10\n",
    "p_test  = 0.10\n",
    "\n",
    "n = len(P_list)\n",
    "n_train = round(n*p_train)\n",
    "n_val   = round(n*p_val)\n",
    "n_test  = n - (n_train+n_val)\n",
    "print(n_train, n_val, n_test)"
   ]
  },
  {
   "cell_type": "code",
   "execution_count": 5,
   "metadata": {},
   "outputs": [],
   "source": [
    "# split randomization over folds\n",
    "Nsplits = 5\n",
    "\n",
    "for j in range(Nsplits):\n",
    "    p = np.random.permutation(n)\n",
    "    idx_train = p[:n_train]\n",
    "    idx_val   = p[n_train:n_train+n_val]\n",
    "    idx_test  = p[n_train+n_val:]\n",
    "    np.save('./splits/phy12_new_split'+str(j+1)+'.npy', (idx_train, idx_val, idx_test))"
   ]
  },
  {
   "cell_type": "code",
   "execution_count": 6,
   "metadata": {},
   "outputs": [
    {
     "name": "stdout",
     "output_type": "stream",
     "text": [
      "9590 1199 1199\n"
     ]
    }
   ],
   "source": [
    "# check first split\n",
    "idx_train,idx_val,idx_test = np.load('./splits/phy12_new_split1.npy', allow_pickle=True)\n",
    "print(len(idx_train), len(idx_val), len(idx_test))"
   ]
  },
  {
   "cell_type": "code",
   "execution_count": null,
   "metadata": {},
   "outputs": [],
   "source": []
  }
 ],
 "metadata": {
  "kernelspec": {
   "display_name": "Python 3",
   "language": "python",
   "name": "python3"
  },
  "language_info": {
   "codemirror_mode": {
    "name": "ipython",
    "version": 3
   },
   "file_extension": ".py",
   "mimetype": "text/x-python",
   "name": "python",
   "nbconvert_exporter": "python",
   "pygments_lexer": "ipython3",
   "version": "3.8.2"
  },
  "latex_envs": {
   "LaTeX_envs_menu_present": true,
   "autoclose": false,
   "autocomplete": true,
   "bibliofile": "biblio.bib",
   "cite_by": "apalike",
   "current_citInitial": 1,
   "eqLabelWithNumbers": true,
   "eqNumInitial": 1,
   "hotkeys": {
    "equation": "Ctrl-E",
    "itemize": "Ctrl-I"
   },
   "labels_anchors": false,
   "latex_user_defs": false,
   "report_style_numbering": false,
   "user_envs_cfg": false
  },
  "toc": {
   "base_numbering": 1,
   "nav_menu": {},
   "number_sections": true,
   "sideBar": true,
   "skip_h1_title": false,
   "title_cell": "Table of Contents",
   "title_sidebar": "Contents",
   "toc_cell": false,
   "toc_position": {},
   "toc_section_display": true,
   "toc_window_display": false
  },
  "varInspector": {
   "cols": {
    "lenName": 16,
    "lenType": 16,
    "lenVar": 40
   },
   "kernels_config": {
    "python": {
     "delete_cmd_postfix": "",
     "delete_cmd_prefix": "del ",
     "library": "var_list.py",
     "varRefreshCmd": "print(var_dic_list())"
    },
    "r": {
     "delete_cmd_postfix": ") ",
     "delete_cmd_prefix": "rm(",
     "library": "var_list.r",
     "varRefreshCmd": "cat(var_dic_list()) "
    }
   },
   "types_to_exclude": [
    "module",
    "function",
    "builtin_function_or_method",
    "instance",
    "_Feature"
   ],
   "window_display": false
  }
 },
 "nbformat": 4,
 "nbformat_minor": 5
}
